{
 "cells": [
  {
   "cell_type": "code",
   "execution_count": 1,
   "id": "1e29d809",
   "metadata": {},
   "outputs": [],
   "source": [
    "import locale"
   ]
  },
  {
   "cell_type": "code",
   "execution_count": 2,
   "id": "5795a844",
   "metadata": {},
   "outputs": [],
   "source": [
    "# set the locale for use in currency formatting\n",
    "result = locale.setlocale(locale.LC_ALL, '')\n",
    "if result == 'C':\n",
    "    locale.setlocale(locale.LC_ALL, 'en_US')"
   ]
  },
  {
   "cell_type": "code",
   "execution_count": 3,
   "id": "a6228777",
   "metadata": {},
   "outputs": [
    {
     "name": "stdout",
     "output_type": "stream",
     "text": [
      "Welcome to the Future Value Calculator\n",
      "\n"
     ]
    }
   ],
   "source": [
    "# display a welcome message\n",
    "print(\"Welcome to the Future Value Calculator\")\n",
    "print()"
   ]
  },
  {
   "cell_type": "code",
   "execution_count": 4,
   "id": "d45dcdac",
   "metadata": {},
   "outputs": [
    {
     "name": "stdout",
     "output_type": "stream",
     "text": [
      "Enter monthly investment:\t1\n",
      "Enter yearly interest rate:\t2\n",
      "Enter number of years:\t\t3\n",
      "Future value:\t\t\t$37.13\n",
      "\n",
      "Continue? (y/n): n\n",
      "\n"
     ]
    }
   ],
   "source": [
    "choice = \"y\"\n",
    "while choice.lower() == \"y\":\n",
    "\n",
    "    # get input from the user\n",
    "    monthly_investment = float(input(\"Enter monthly investment:\\t\"))\n",
    "    yearly_interest_rate = float(input(\"Enter yearly interest rate:\\t\")) #added missing parethesis\n",
    "    years = int(input(\"Enter number of years:\\t\\t\"))\n",
    "\n",
    "    # convert yearly values to monthly values\n",
    "    monthly_interest_rate = yearly_interest_rate / 12 / 100\n",
    "    months = years * 12 # added an extra \"s\" to \"years\" fixing mispelled variable\n",
    "\n",
    "    # calculate the future value\n",
    "    future_value = 0\n",
    "    for i in range(months):\n",
    "        future_value = future_value + monthly_investment\n",
    "        monthly_interest_amount = future_value * monthly_interest_rate\n",
    "        future_value = future_value + monthly_interest_amount\n",
    "\n",
    "    # format and display the result\n",
    "    print(\"Future value:\\t\\t\\t%s\" % locale.currency(\n",
    "        future_value, grouping=True))\n",
    "    print()\n",
    "\n",
    "    # see if the user wants to continue\n",
    "    choice = input(\"Continue? (y/n): \")\n",
    "    print()"
   ]
  },
  {
   "cell_type": "code",
   "execution_count": 5,
   "id": "415afc65",
   "metadata": {},
   "outputs": [
    {
     "name": "stdout",
     "output_type": "stream",
     "text": [
      "Bye!\n"
     ]
    }
   ],
   "source": [
    "print(\"Bye!\")"
   ]
  },
  {
   "cell_type": "code",
   "execution_count": 6,
   "id": "17aa1eb4",
   "metadata": {},
   "outputs": [],
   "source": [
    "# ISIT 333 Lab Activity 1\n",
    "# 9/20/2023\n",
    "# Kateryna Tekmenzhi"
   ]
  },
  {
   "cell_type": "code",
   "execution_count": 7,
   "id": "84d53e05",
   "metadata": {},
   "outputs": [
    {
     "name": "stdout",
     "output_type": "stream",
     "text": [
      "Hello World!\n"
     ]
    }
   ],
   "source": [
    "print(\"Hello World!\")"
   ]
  },
  {
   "cell_type": "code",
   "execution_count": 8,
   "id": "53f2bb3a",
   "metadata": {},
   "outputs": [
    {
     "data": {
      "text/plain": [
       "34"
      ]
     },
     "execution_count": 8,
     "metadata": {},
     "output_type": "execute_result"
    }
   ],
   "source": [
    "16 + 18"
   ]
  },
  {
   "cell_type": "code",
   "execution_count": 9,
   "id": "d288abfd",
   "metadata": {},
   "outputs": [
    {
     "name": "stdout",
     "output_type": "stream",
     "text": [
      "My name is Kateryna Tekmenzhi\n"
     ]
    }
   ],
   "source": [
    "myName = (\"Kateryna Tekmenzhi\")\n",
    "print (\"My name is\", myName)"
   ]
  },
  {
   "cell_type": "code",
   "execution_count": 10,
   "id": "2b862a1e",
   "metadata": {
    "scrolled": true
   },
   "outputs": [
    {
     "name": "stdout",
     "output_type": "stream",
     "text": [
      "44440\n"
     ]
    }
   ],
   "source": [
    "num1 = 22\n",
    "num2 = 2020\n",
    "print(num1 * num2) "
   ]
  },
  {
   "cell_type": "markdown",
   "id": "a21414f4",
   "metadata": {},
   "source": [
    "<br>"
   ]
  },
  {
   "cell_type": "code",
   "execution_count": 11,
   "id": "f93abecb",
   "metadata": {},
   "outputs": [
    {
     "name": "stdout",
     "output_type": "stream",
     "text": [
      "Enter a number: 56\n"
     ]
    }
   ],
   "source": [
    "num3 = int(input(\"Enter a number: \"))"
   ]
  },
  {
   "cell_type": "code",
   "execution_count": 12,
   "id": "930fb08f",
   "metadata": {},
   "outputs": [
    {
     "name": "stdout",
     "output_type": "stream",
     "text": [
      "Enter a second number: 78\n"
     ]
    }
   ],
   "source": [
    "num4 = int(input(\"Enter a second number: \"))"
   ]
  },
  {
   "cell_type": "code",
   "execution_count": 13,
   "id": "d16d5c4e",
   "metadata": {},
   "outputs": [
    {
     "name": "stdout",
     "output_type": "stream",
     "text": [
      "56 * 78 = 4368\n"
     ]
    }
   ],
   "source": [
    "print(num3,\"*\", num4, \"=\", num3 * num4)"
   ]
  }
 ],
 "metadata": {
  "jupytext": {
   "cell_metadata_filter": "-all",
   "executable": "/usr/bin/env python3",
   "main_language": "python",
   "notebook_metadata_filter": "-all"
  },
  "kernelspec": {
   "display_name": "Python 3 (ipykernel)",
   "language": "python",
   "name": "python3"
  },
  "language_info": {
   "codemirror_mode": {
    "name": "ipython",
    "version": 3
   },
   "file_extension": ".py",
   "mimetype": "text/x-python",
   "name": "python",
   "nbconvert_exporter": "python",
   "pygments_lexer": "ipython3",
   "version": "3.11.4"
  }
 },
 "nbformat": 4,
 "nbformat_minor": 5
}
