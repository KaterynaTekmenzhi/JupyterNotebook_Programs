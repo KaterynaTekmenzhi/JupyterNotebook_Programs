{
 "cells": [
  {
   "cell_type": "code",
   "execution_count": 1,
   "metadata": {},
   "outputs": [
    {
     "name": "stdout",
     "output_type": "stream",
     "text": [
      "The Miles Per Gallon application\n",
      "\n"
     ]
    },
    {
     "name": "stdout",
     "output_type": "stream",
     "text": [
      "Miles Per Gallon: \t13.24\n",
      "\n",
      "Miles Per Gallon: \t21.47\n",
      "\n",
      "Data saved to trips.csv\n",
      "Bye\n"
     ]
    }
   ],
   "source": [
    "#!/usr/bin/env python3\n",
    "\n",
    "import csv  # Import the CSV module for handling CSV files\n",
    "\n",
    "# Define functions to get miles driven and gallons used\n",
    "def get_miles_driven():\n",
    "    while True:\n",
    "        miles_driven = float(input(\"Enter miles driven: \"))  # Prompt for miles driven input\n",
    "        if miles_driven > 0:\n",
    "            return miles_driven\n",
    "        else:\n",
    "            print(\"Entry must be greater than zero. Please try again.\\n\")\n",
    "            continue\n",
    "\n",
    "def get_gallons_used():\n",
    "    while True:\n",
    "        gallons_used = float(input(\"Enter gallons of gas: \"))  # Prompt for gallons used input\n",
    "        if gallons_used > 0:\n",
    "            return gallons_used\n",
    "        else:\n",
    "            print(\"Entry must be greater than zero. Please try again.\\n\")\n",
    "            continue\n",
    "\n",
    "# Define the main function\n",
    "def main():\n",
    "    # Display a welcome message\n",
    "    print(\"The Miles Per Gallon application\")\n",
    "    print()\n",
    "    \n",
    "    trips_data = []  # Initialize an empty list to store trip data\n",
    "    \n",
    "    more = \"y\"\n",
    "    # Prompt for miles driven and gallons used\n",
    "    while more.lower() == \"y\":\n",
    "        miles_driven = get_miles_driven()\n",
    "        gallons_used = get_gallons_used()\n",
    "        # Calculate and display miles per gallon\n",
    "        mpg = round(miles_driven / gallons_used, 2)\n",
    "        \n",
    "        # Append the trip data to the list as a tuple\n",
    "        trips_data.append((miles_driven, gallons_used, mpg))\n",
    "        \n",
    "        # Display the result\n",
    "        print(\"Miles Per Gallon: \\t\" + str(mpg))\n",
    "        print()\n",
    "        \n",
    "        # Prompt for another entry\n",
    "        more = input(\"More entries? (y or n): \")\n",
    "    \n",
    "    # Save the data to a CSV file\n",
    "    with open('trips.csv', mode='w', newline='') as file:\n",
    "        # Create the CSV writer object\n",
    "        # The writerow method writes a row of data to the file\n",
    "        writer = csv.writer(file)\n",
    "        writer.writerow(['Miles Driven', 'Gallons Used', 'MPG'])  # Write header row\n",
    "        # Loop through the list of tuples and write each tuple to the file\n",
    "        writer.writerows(trips_data)  # Write the trip data\n",
    "        \n",
    "    print(\"Data saved to trips.csv\")\n",
    "    print(\"Bye\")\n",
    "\n",
    "if __name__ == \"__main__\":\n",
    "    main()"
   ]
  }
 ],
 "metadata": {
  "kernelspec": {
   "display_name": "base",
   "language": "python",
   "name": "python3"
  },
  "language_info": {
   "codemirror_mode": {
    "name": "ipython",
    "version": 3
   },
   "file_extension": ".py",
   "mimetype": "text/x-python",
   "name": "python",
   "nbconvert_exporter": "python",
   "pygments_lexer": "ipython3",
   "version": "3.11.4"
  }
 },
 "nbformat": 4,
 "nbformat_minor": 2
}
