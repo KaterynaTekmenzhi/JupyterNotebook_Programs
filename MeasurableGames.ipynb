{
 "cells": [
  {
   "cell_type": "code",
   "execution_count": 4,
   "id": "7e3c115d",
   "metadata": {},
   "outputs": [
    {
     "name": "stdout",
     "output_type": "stream",
     "text": [
      "The Test Scores program\n",
      "\n",
      "Enter 3 test scores\n",
      "======================\n",
      "Enter test score: 5\n",
      "Enter test score: 8\n",
      "Enter test score: 9\n",
      "======================\n",
      "Your Scores are:  5 8 9\n",
      "Total Score:   22 \n",
      "Average Score: 7\n",
      "\n",
      "Bye\n"
     ]
    }
   ],
   "source": [
    "# Exercise 2-2\n",
    "# display a welcome message\n",
    "print(\"The Test Scores program\")\n",
    "print()\n",
    "print(\"Enter 3 test scores\")\n",
    "print(\"======================\")\n",
    "\n",
    "# get scores from the user\n",
    "total_score = 0       # initialize the variable for accumulating scores\n",
    "\n",
    "# assign scores to variables, then add them to total_score.\n",
    "score1 = total_score + int(input(\"Enter test score: \"))\n",
    "score2 = total_score + int(input(\"Enter test score: \"))\n",
    "score3 = total_score + int(input(\"Enter test score: \"))\n",
    "total_score = score1 + score2 + score3\n",
    "print(\"======================\")\n",
    "print(\"Your Scores are: \", score1, score2, score3)\n",
    "\n",
    "# calculate average score\n",
    "average_score = round(total_score / 3)\n",
    "             \n",
    "# format and display the result\n",
    "print(\"Total Score:  \", total_score,\n",
    "      \"\\nAverage Score:\", average_score)\n",
    "print()\n",
    "print(\"Bye\")"
   ]
  },
  {
   "cell_type": "code",
   "execution_count": 5,
   "id": "43a5d37d",
   "metadata": {},
   "outputs": [
    {
     "name": "stdout",
     "output_type": "stream",
     "text": [
      "The Area and Perimeter program\n",
      "\n",
      "Please enter the length: 12\n",
      "Please enter the width: 16\n",
      "\n",
      "Area:  192\n",
      "Perimeter:  56\n",
      "\n",
      "Thanks for using this program!\n"
     ]
    }
   ],
   "source": [
    "# Exercise 2-3\n",
    "# display a welcome message\n",
    "print(\"The Area and Perimeter program\")\n",
    "print()\n",
    "\n",
    "# get input from the user\n",
    "length = int(input(\"Please enter the length: \"))\n",
    "width = int(input(\"Please enter the width: \"))\n",
    "print()\n",
    "\n",
    "# calculate area and perimeter, then display results\n",
    "print(\"Area: \", length * width)\n",
    "print(\"Perimeter: \", 2 * (length + width))\n",
    "print()\n",
    "\n",
    "# display a goodbye message\n",
    "print(\"Thanks for using this program!\")"
   ]
  },
  {
   "cell_type": "code",
   "execution_count": null,
   "id": "94701be6",
   "metadata": {},
   "outputs": [
    {
     "name": "stdout",
     "output_type": "stream",
     "text": [
      "The Miles Per Gallon program\n",
      "\n",
      "Enter miles driven:\t\t60\n"
     ]
    }
   ],
   "source": [
    "# Exercise 3-1\n",
    "# display a welcome message\n",
    "print(\"The Miles Per Gallon program\")\n",
    "print()\n",
    "\n",
    "# while loop to validate input\n",
    "choice = \"y\"\n",
    "# use lower() to allow the user to use either uppercase or lowercase \"Y\"\n",
    "while choice.lower() == \"y\":\n",
    "    # get input from the user\n",
    "    miles_driven= float(input(\"Enter miles driven:\\t\\t\")) # use float instead of int to allow decimals\n",
    "    gallons_used = float(input(\"Enter gallons of gas used:\\t\"))\n",
    "    cost_per_gallon = float(input(\"Enter cost per gallon:\\t\\t\"))\n",
    "    # validate input\n",
    "    if miles_driven <= 0:\n",
    "        print(\"Miles driven must be greater than zero. Please try again.\")\n",
    "    elif gallons_used <= 0:\n",
    "        print(\"Gallons used must be greater than zero. Please try again.\")\n",
    "    else:\n",
    "    \n",
    "    # use round() to round to 2 decimal places\n",
    "    # use \\t to add a tab character\n",
    "        mpg = round((miles_driven / gallons_used), 2) # calculate and display miles per gallon\n",
    "        total_gas_cost = round((gallons_used * cost_per_gallon), 1) # calculate and display total gas cost\n",
    "        cost_per_mile = round((total_gas_cost / miles_driven), 1) # calculate and display cost per mile\n",
    "        print()\n",
    "        print(\"Miles Per Gallon:\\t\\t\" + str(mpg))\n",
    "        print(\"Total Gas Cost:\\t\\t\\t\" + str(total_gas_cost))\n",
    "        print(\"Cost Per Mile:\\t\\t\\t\" + str(cost_per_mile))\n",
    "        print()\n",
    "        # see if the user wants to continue\n",
    "        choice = input(\"Get entries for another trip (y/n)? \")\n",
    "        print()\n",
    "print(\"Bye\")"
   ]
  }
 ],
 "metadata": {
  "kernelspec": {
   "display_name": "Python 3 (ipykernel)",
   "language": "python",
   "name": "python3"
  },
  "language_info": {
   "codemirror_mode": {
    "name": "ipython",
    "version": 3
   },
   "file_extension": ".py",
   "mimetype": "text/x-python",
   "name": "python",
   "nbconvert_exporter": "python",
   "pygments_lexer": "ipython3",
   "version": "3.11.4"
  }
 },
 "nbformat": 4,
 "nbformat_minor": 5
}
