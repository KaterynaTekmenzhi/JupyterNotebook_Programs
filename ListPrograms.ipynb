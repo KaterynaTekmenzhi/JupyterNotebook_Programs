{
 "cells": [
  {
   "cell_type": "code",
   "execution_count": null,
   "metadata": {},
   "outputs": [],
   "source": [
    "#!/usr/bin/env python3\n",
    "\n",
    "def display_welcome():\n",
    "    print(\"The Test Scores program\")\n",
    "    print(\"Enter 'x' to exit\")\n",
    "    print(\"\")\n",
    "\n",
    "def get_scores():\n",
    "    score_total = 0\n",
    "    counter = 0\n",
    "    while True:\n",
    "        score = input(\"Enter test score: \")\n",
    "        if score == \"x\":\n",
    "            return  score_total, counter\n",
    "        else:\n",
    "            score = int(score)\n",
    "            if score >= 0 and score <= 100:\n",
    "                score_total += score\n",
    "                counter += 1 \n",
    "            else:\n",
    "                print(\"Test score must be from 0 through 100. \" +\n",
    "                      \"Score discarded. Try again.\")\n",
    "\n",
    "def process_scores(score_total, count):\n",
    "    # calculate average score\n",
    "    average = score_total / count\n",
    "                \n",
    "    # format and display the result\n",
    "    print()\n",
    "    print(\"Score total:       \", score_total)\n",
    "    print(\"Number of Scores:  \", count)\n",
    "    print(\"Average Score:     \", average)\n",
    "\n",
    "def main():\n",
    "    display_welcome()\n",
    "    score_total, count = get_scores()\n",
    "    process_scores(score_total, count)\n",
    "    print(\"\")\n",
    "    print(\"Bye!\")\n",
    "\n",
    "# if started as the main module, call the main function\n",
    "if __name__ == \"__main__\":\n",
    "    main()\n",
    "\n",
    "\n"
   ]
  }
 ],
 "metadata": {
  "language_info": {
   "name": "python"
  }
 },
 "nbformat": 4,
 "nbformat_minor": 2
}
